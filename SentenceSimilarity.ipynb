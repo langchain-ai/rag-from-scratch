{
 "cells": [
  {
   "metadata": {
    "ExecuteTime": {
     "end_time": "2024-11-09T16:00:35.804317Z",
     "start_time": "2024-11-09T16:00:33.431609Z"
    }
   },
   "cell_type": "code",
   "source": [
    "import numpy as np\n",
    "from sentence_transformers import SentenceTransformer\n",
    "\n",
    "# Define cosine similarity function\n",
    "def cosine_similarity(vec1, vec2):\n",
    "    dot_product = np.dot(vec1, vec2)\n",
    "    norm_vec1 = np.linalg.norm(vec1)\n",
    "    norm_vec2 = np.linalg.norm(vec2)\n",
    "    return dot_product / (norm_vec1 * norm_vec2)\n",
    "\n",
    "\n",
    "# Load the model\n",
    "model = SentenceTransformer('sentence-transformers/all-MiniLM-L6-v2')\n"
   ],
   "id": "a69d5acd9019a714",
   "outputs": [],
   "execution_count": 66
  },
  {
   "metadata": {
    "ExecuteTime": {
     "end_time": "2024-11-09T16:00:37.900705Z",
     "start_time": "2024-11-09T16:00:37.821934Z"
    }
   },
   "cell_type": "code",
   "source": [
    "# Encode sentences\n",
    "sentences = [\n",
    "    \"\"\"\n",
    "        This is an example sentence ,Each sentence is converted into a fixed-length vector\n",
    "    \"\"\"\n",
    "    ,\n",
    "    \"\"\"\n",
    "    Scenario #1: Successful Log in to the website\n",
    "    Given A user brings up the login pop-up\n",
    "    When A user clicks Sign-in\n",
    "    And A user enters a valid email <email> and password <password>\n",
    "    And A user clicks Sign-in\n",
    "    Then A user should be successfully logged into the site\n",
    "    \"\"\",\n",
    "    \"\"\"\n",
    "    Scenario #2: Unsuccessful Log in to the website\n",
    "    Given A user brings up the login pop-up\n",
    "    When A user enters an invalid email <email> and password <password>\n",
    "    And A user clicks Sign-in\n",
    "    Then A user should not be successfully logged into the site\n",
    "    \"\"\"\n",
    "]\n",
    "source_embeddings = model.encode(sentences)\n",
    "\n"
   ],
   "id": "87d49458c4f99d9",
   "outputs": [],
   "execution_count": 67
  },
  {
   "metadata": {
    "ExecuteTime": {
     "end_time": "2024-11-09T16:00:40.891577Z",
     "start_time": "2024-11-09T16:00:40.861895Z"
    }
   },
   "cell_type": "code",
   "source": [
    "query = \"Scenario where my email is not registered and I try to login\"\n",
    "query_embedding = model.encode(query)"
   ],
   "id": "237eebdb31f3b207",
   "outputs": [],
   "execution_count": 68
  },
  {
   "metadata": {
    "ExecuteTime": {
     "end_time": "2024-11-09T16:00:44.117593Z",
     "start_time": "2024-11-09T16:00:44.103927Z"
    }
   },
   "cell_type": "code",
   "source": [
    "# Calculate cosine similarity\n",
    "\n",
    "similarity = cosine_similarity(source_embeddings[0], query_embedding)\n",
    "print(\"Cosine Similarity:\", similarity)"
   ],
   "id": "fac9b5a75b8e8748",
   "outputs": [
    {
     "name": "stdout",
     "output_type": "stream",
     "text": [
      "Cosine Similarity: -0.02369566\n"
     ]
    }
   ],
   "execution_count": 69
  },
  {
   "metadata": {
    "ExecuteTime": {
     "end_time": "2024-11-09T16:00:47.237845Z",
     "start_time": "2024-11-09T16:00:47.229337Z"
    }
   },
   "cell_type": "code",
   "source": [
    "similarity = cosine_similarity(source_embeddings[1], query_embedding)\n",
    "print(\"Cosine Similarity:\", similarity)"
   ],
   "id": "fb20b50ac00ce51a",
   "outputs": [
    {
     "name": "stdout",
     "output_type": "stream",
     "text": [
      "Cosine Similarity: 0.48154992\n"
     ]
    }
   ],
   "execution_count": 70
  },
  {
   "metadata": {
    "ExecuteTime": {
     "end_time": "2024-11-09T16:00:48.867729Z",
     "start_time": "2024-11-09T16:00:48.859074Z"
    }
   },
   "cell_type": "code",
   "source": [
    "similarity = cosine_similarity(source_embeddings[2], query_embedding)\n",
    "print(\"Cosine Similarity:\", similarity)"
   ],
   "id": "3d34b5c0633d698c",
   "outputs": [
    {
     "name": "stdout",
     "output_type": "stream",
     "text": [
      "Cosine Similarity: 0.5798046\n"
     ]
    }
   ],
   "execution_count": 71
  }
 ],
 "metadata": {
  "kernelspec": {
   "display_name": "Python 3 (ipykernel)",
   "language": "python",
   "name": "python3"
  },
  "language_info": {
   "codemirror_mode": {
    "name": "ipython",
    "version": 3
   },
   "file_extension": ".py",
   "mimetype": "text/x-python",
   "name": "python",
   "nbconvert_exporter": "python",
   "pygments_lexer": "ipython3",
   "version": "3.12.7"
  }
 },
 "nbformat": 4,
 "nbformat_minor": 5
}
