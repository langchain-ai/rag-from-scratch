{
 "cells": [
  {
   "cell_type": "code",
   "id": "initial_id",
   "metadata": {
    "collapsed": true,
    "ExecuteTime": {
     "end_time": "2024-11-09T16:11:01.050474Z",
     "start_time": "2024-11-09T16:10:56.539619Z"
    }
   },
   "source": [
    "\n",
    "from sklearn.metrics.pairwise import cosine_similarity\n",
    "import numpy as np\n",
    "\n",
    "from langchain_community.vectorstores import Chroma\n",
    "from langchain.schema import Document\n",
    "from langchain_text_splitters import MarkdownHeaderTextSplitter\n",
    "from sentence_transformers import SentenceTransformer\n",
    "from langchain_community.embeddings import GPT4AllEmbeddings\n",
    "\n",
    "from tqdm.autonotebook import tqdm\n",
    "model = SentenceTransformer('sentence-transformers/all-MiniLM-L6-v2')\n",
    "gpt4all_embd = GPT4AllEmbeddings()\n",
    "\n"
   ],
   "outputs": [],
   "execution_count": 116
  },
  {
   "metadata": {
    "ExecuteTime": {
     "end_time": "2024-11-09T16:11:04.449316Z",
     "start_time": "2024-11-09T16:11:04.431185Z"
    }
   },
   "cell_type": "code",
   "source": [
    "# Specify the path to the plain text file\n",
    "feature_file_path = 'sample.feature'\n",
    "\n",
    "# Open and read the file\n",
    "with open(feature_file_path, 'r') as file:\n",
    "    content = file.read()\n",
    "\n",
    "# Print the content of the file\n",
    "print(content)"
   ],
   "id": "4d5d91e5c68b397d",
   "outputs": [
    {
     "name": "stdout",
     "output_type": "stream",
     "text": [
      "Feature: Login\n",
      "  As a new user\n",
      "  I want to log in to the website\n",
      "  So that the system can remember my data\n",
      "\n",
      "  Scenario #1: Successful Log in to the website\n",
      "    Given A user brings up the login pop-up\n",
      "    When A user clicks Sign-in\n",
      "    And A user enters a valid email <email> and password <password>\n",
      "    And A user clicks Sign-in\n",
      "    Then A user should be successfully logged into the site\n",
      "\n",
      "  Scenario #2: Unsuccessful Log in to the website\n",
      "    Given A user brings up the login pop-up\n",
      "    When A user enters an invalid email <email> and password <password>\n",
      "    And A user clicks Sign-in\n",
      "    Then A user should not be successfully logged into the site\n"
     ]
    }
   ],
   "execution_count": 117
  },
  {
   "metadata": {
    "ExecuteTime": {
     "end_time": "2024-11-09T16:11:08.321781Z",
     "start_time": "2024-11-09T16:11:08.306590Z"
    }
   },
   "cell_type": "code",
   "source": [
    "document = Document(page_content=content)\n",
    "print(document)"
   ],
   "id": "715129416222c125",
   "outputs": [
    {
     "name": "stdout",
     "output_type": "stream",
     "text": [
      "page_content='Feature: Login\n",
      "  As a new user\n",
      "  I want to log in to the website\n",
      "  So that the system can remember my data\n",
      "\n",
      "  Scenario #1: Successful Log in to the website\n",
      "    Given A user brings up the login pop-up\n",
      "    When A user clicks Sign-in\n",
      "    And A user enters a valid email <email> and password <password>\n",
      "    And A user clicks Sign-in\n",
      "    Then A user should be successfully logged into the site\n",
      "\n",
      "  Scenario #2: Unsuccessful Log in to the website\n",
      "    Given A user brings up the login pop-up\n",
      "    When A user enters an invalid email <email> and password <password>\n",
      "    And A user clicks Sign-in\n",
      "    Then A user should not be successfully logged into the site'\n"
     ]
    }
   ],
   "execution_count": 118
  },
  {
   "metadata": {
    "ExecuteTime": {
     "end_time": "2024-11-09T16:11:11.828791Z",
     "start_time": "2024-11-09T16:11:11.806784Z"
    }
   },
   "cell_type": "code",
   "source": [
    "headers_to_split_on = [\n",
    "    (\"Scenario\", \"Scenario Outline\")\n",
    "]\n",
    "\n",
    "markdown_splitter = MarkdownHeaderTextSplitter(\n",
    "    headers_to_split_on=headers_to_split_on, strip_headers=False\n",
    ")\n",
    "\n",
    "md_header_splits = markdown_splitter.split_text(content)\n",
    "md_header_splits"
   ],
   "id": "30b026ecc21916d2",
   "outputs": [
    {
     "data": {
      "text/plain": [
       "[Document(metadata={}, page_content='Feature: Login\\nAs a new user\\nI want to log in to the website\\nSo that the system can remember my data'),\n",
       " Document(metadata={'Scenario Outline': '#1: Successful Log in to the website'}, page_content='Scenario #1: Successful Log in to the website\\nGiven A user brings up the login pop-up\\nWhen A user clicks Sign-in\\nAnd A user enters a valid email <email> and password <password>\\nAnd A user clicks Sign-in\\nThen A user should be successfully logged into the site'),\n",
       " Document(metadata={'Scenario Outline': '#2: Unsuccessful Log in to the website'}, page_content='Scenario #2: Unsuccessful Log in to the website\\nGiven A user brings up the login pop-up\\nWhen A user enters an invalid email <email> and password <password>\\nAnd A user clicks Sign-in\\nThen A user should not be successfully logged into the site')]"
      ]
     },
     "execution_count": 119,
     "metadata": {},
     "output_type": "execute_result"
    }
   ],
   "execution_count": 119
  },
  {
   "metadata": {
    "ExecuteTime": {
     "end_time": "2024-11-09T16:11:17.946512Z",
     "start_time": "2024-11-09T16:11:17.650519Z"
    }
   },
   "cell_type": "code",
   "source": [
    "# Create a vector store from the documents\n",
    "vectorstore = Chroma.from_documents(documents=md_header_splits, embedding=gpt4all_embd)\n"
   ],
   "id": "36d4b604e82cf35b",
   "outputs": [],
   "execution_count": 120
  },
  {
   "metadata": {},
   "cell_type": "code",
   "source": [
    "# Reinitialize the vector store to clear it\n",
    "vectorstore = Chroma.from_documents(documents=[], embedding=gpt4all_embd)"
   ],
   "id": "4efbfa8f60d0ab07",
   "outputs": [],
   "execution_count": null
  },
  {
   "metadata": {
    "ExecuteTime": {
     "end_time": "2024-11-09T16:11:21.926870Z",
     "start_time": "2024-11-09T16:11:21.900754Z"
    }
   },
   "cell_type": "code",
   "source": "retriever = vectorstore.as_retriever()",
   "id": "a3a7ae0092278fcf",
   "outputs": [],
   "execution_count": 121
  },
  {
   "metadata": {
    "ExecuteTime": {
     "end_time": "2024-11-09T16:11:23.584836Z",
     "start_time": "2024-11-09T16:11:23.573199Z"
    }
   },
   "cell_type": "code",
   "source": "query = \"Scenario where my email is not registered and I try to login\"",
   "id": "41b8ad5be17d6715",
   "outputs": [],
   "execution_count": 122
  },
  {
   "metadata": {
    "ExecuteTime": {
     "end_time": "2024-11-09T16:11:25.368127Z",
     "start_time": "2024-11-09T16:11:25.224419Z"
    }
   },
   "cell_type": "code",
   "source": [
    "# Retrieve relevant content using the similarity_search method\n",
    "results = retriever.invoke(query, top_k=1)\n",
    "results"
   ],
   "id": "1498e1783f81425f",
   "outputs": [
    {
     "data": {
      "text/plain": [
       "[Document(metadata={'Scenario Outline': '#2: Unsuccessful Log in to the website'}, page_content='Scenario #2: Unsuccessful Log in to the website\\nGiven A user brings up the login pop-up\\nWhen A user enters an invalid email <email> and password <password>\\nAnd A user clicks Sign-in\\nThen A user should not be successfully logged into the site'),\n",
       " Document(metadata={'Scenario Outline': '#2: Unsuccessful Log in to the website'}, page_content='Scenario #2: Unsuccessful Log in to the website\\nGiven A user brings up the login pop-up\\nWhen A user enters an invalid email <email> and password <password>\\nAnd A user clicks Sign-in\\nThen A user should not be successfully logged into the site'),\n",
       " Document(metadata={'Scenario Outline': '#2: Unsuccessful Log in to the website'}, page_content='Scenario #2: Unsuccessful Log in to the website\\nGiven A user brings up the login pop-up\\nWhen A user enters an invalid email <email> and password <password>\\nAnd A user clicks Sign-in\\nThen A user should not be successfully logged into the site'),\n",
       " Document(metadata={'Scenario Outline': '#2: Unsuccessful Log in to the website'}, page_content='Scenario #2: Unsuccessful Log in to the website\\nGiven A user brings up the login pop-up\\nWhen A user enters an invalid email <email> and password <password>\\nAnd A user clicks Sign-in\\nThen A user should not be successfully logged into the site')]"
      ]
     },
     "execution_count": 123,
     "metadata": {},
     "output_type": "execute_result"
    }
   ],
   "execution_count": 123
  },
  {
   "metadata": {
    "ExecuteTime": {
     "end_time": "2024-11-09T16:11:32.712233Z",
     "start_time": "2024-11-09T16:11:32.493591Z"
    }
   },
   "cell_type": "code",
   "source": [
    "# Calculate similarity scores manually\n",
    "query_embedding = gpt4all_embd.embed_query(\"Scenario where my email is not registered and I try to login\")\n",
    "document_embeddings = [gpt4all_embd.embed_query(result.page_content) for result in results]\n",
    "\n",
    "similarity_scores = cosine_similarity([query_embedding], document_embeddings).flatten()\n",
    "\n",
    "# Print the results with similarity scores\n",
    "for result, score in zip(results, similarity_scores):\n",
    "    print(f\"Document: {result}\\nSimilarity Score: {score}\\n\")"
   ],
   "id": "95b2634f07ecf12d",
   "outputs": [
    {
     "name": "stdout",
     "output_type": "stream",
     "text": [
      "Document: page_content='Scenario #2: Unsuccessful Log in to the website\n",
      "Given A user brings up the login pop-up\n",
      "When A user enters an invalid email <email> and password <password>\n",
      "And A user clicks Sign-in\n",
      "Then A user should not be successfully logged into the site' metadata={'Scenario Outline': '#2: Unsuccessful Log in to the website'}\n",
      "Similarity Score: 0.5796955321258643\n",
      "\n",
      "Document: page_content='Scenario #2: Unsuccessful Log in to the website\n",
      "Given A user brings up the login pop-up\n",
      "When A user enters an invalid email <email> and password <password>\n",
      "And A user clicks Sign-in\n",
      "Then A user should not be successfully logged into the site' metadata={'Scenario Outline': '#2: Unsuccessful Log in to the website'}\n",
      "Similarity Score: 0.5796955321258643\n",
      "\n",
      "Document: page_content='Scenario #2: Unsuccessful Log in to the website\n",
      "Given A user brings up the login pop-up\n",
      "When A user enters an invalid email <email> and password <password>\n",
      "And A user clicks Sign-in\n",
      "Then A user should not be successfully logged into the site' metadata={'Scenario Outline': '#2: Unsuccessful Log in to the website'}\n",
      "Similarity Score: 0.5796955321258643\n",
      "\n",
      "Document: page_content='Scenario #2: Unsuccessful Log in to the website\n",
      "Given A user brings up the login pop-up\n",
      "When A user enters an invalid email <email> and password <password>\n",
      "And A user clicks Sign-in\n",
      "Then A user should not be successfully logged into the site' metadata={'Scenario Outline': '#2: Unsuccessful Log in to the website'}\n",
      "Similarity Score: 0.5796955321258643\n",
      "\n"
     ]
    }
   ],
   "execution_count": 124
  }
 ],
 "metadata": {
  "kernelspec": {
   "display_name": "Python 3",
   "language": "python",
   "name": "python3"
  },
  "language_info": {
   "codemirror_mode": {
    "name": "ipython",
    "version": 2
   },
   "file_extension": ".py",
   "mimetype": "text/x-python",
   "name": "python",
   "nbconvert_exporter": "python",
   "pygments_lexer": "ipython2",
   "version": "2.7.6"
  }
 },
 "nbformat": 4,
 "nbformat_minor": 5
}
