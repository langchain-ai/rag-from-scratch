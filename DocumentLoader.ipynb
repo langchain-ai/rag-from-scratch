{
 "cells": [
  {
   "cell_type": "code",
   "id": "initial_id",
   "metadata": {
    "collapsed": true,
    "ExecuteTime": {
     "end_time": "2024-11-10T06:01:17.349892Z",
     "start_time": "2024-11-10T06:01:16.999136Z"
    }
   },
   "source": [
    "from sklearn.metrics.pairwise import cosine_similarity\n",
    "from langchain_community.vectorstores import Chroma\n",
    "from langchain.schema import Document\n",
    "from langchain_text_splitters import MarkdownHeaderTextSplitter\n",
    "from langchain_community.embeddings import GPT4AllEmbeddings\n",
    "\n",
    "from tqdm.autonotebook import tqdm\n",
    "gpt4all_embd = GPT4AllEmbeddings()"
   ],
   "outputs": [],
   "execution_count": 42
  },
  {
   "metadata": {
    "ExecuteTime": {
     "end_time": "2024-11-10T06:01:19.233456Z",
     "start_time": "2024-11-10T06:01:19.213439Z"
    }
   },
   "cell_type": "code",
   "source": [
    "# Specify the path to the plain text file\n",
    "feature_file_path = 'sample.feature'\n",
    "\n",
    "# Open and read the file\n",
    "with open(feature_file_path, 'r') as file:\n",
    "    content = file.read()\n",
    "\n",
    "# Print the content of the file\n",
    "print(content)"
   ],
   "id": "4d5d91e5c68b397d",
   "outputs": [
    {
     "name": "stdout",
     "output_type": "stream",
     "text": [
      "Feature: Login\n",
      "  As a new user\n",
      "  I want to log in to the website\n",
      "  So that the system can remember my data\n",
      "\n",
      "  Scenario #1: Successful Log in to the website\n",
      "    Given A user brings up the login pop-up\n",
      "    When A user clicks Sign-in\n",
      "    And A user enters a valid email <email> and password <password>\n",
      "    And A user clicks Sign-in\n",
      "    Then A user should be successfully logged into the site\n",
      "\n",
      "  Scenario #2: Unsuccessful Log in to the website\n",
      "    Given A user brings up the login pop-up\n",
      "    When A user enters an invalid email <email> and password <password>\n",
      "    And A user clicks Sign-in\n",
      "    Then A user should not be successfully logged into the site\n",
      "\n",
      "  Scenario #3: Simple Google search\n",
      "    Given a web browser is on the Google page\n",
      "    When the search phrase \"panda\" is entered\n",
      "    Then results for \"panda\" are shown\n",
      "    And the result page displays the text\n",
      "\n",
      "  Scenario #4: another Simple Google search\n",
      "    Given a web browser is on the Google page\n",
      "    When the search phrase \"<phrase>\" is entered\n",
      "    Then results for \"<phrase>\" are shown\n",
      "    And the related results include \"<related>\"\n"
     ]
    }
   ],
   "execution_count": 43
  },
  {
   "metadata": {
    "ExecuteTime": {
     "end_time": "2024-11-10T06:03:38.808150Z",
     "start_time": "2024-11-10T06:03:38.789344Z"
    }
   },
   "cell_type": "code",
   "source": [
    "document = Document(page_content=content)\n",
    "print(document)"
   ],
   "id": "715129416222c125",
   "outputs": [
    {
     "name": "stdout",
     "output_type": "stream",
     "text": [
      "page_content='Feature: Login\n",
      "  As a new user\n",
      "  I want to log in to the website\n",
      "  So that the system can remember my data\n",
      "\n",
      "  Scenario #1: Successful Log in to the website\n",
      "    Given A user brings up the login pop-up\n",
      "    When A user clicks Sign-in\n",
      "    And A user enters a valid email <email> and password <password>\n",
      "    And A user clicks Sign-in\n",
      "    Then A user should be successfully logged into the site\n",
      "\n",
      "  Scenario #2: Unsuccessful Log in to the website\n",
      "    Given A user brings up the login pop-up\n",
      "    When A user enters an invalid email <email> and password <password>\n",
      "    And A user clicks Sign-in\n",
      "    Then A user should not be successfully logged into the site\n",
      "\n",
      "  Scenario #3: Simple Google search\n",
      "    Given a web browser is on the Google page\n",
      "    When the search phrase \"panda\" is entered\n",
      "    Then results for \"panda\" are shown\n",
      "    And the result page displays the text\n",
      "\n",
      "  Scenario #4: another Simple Google search\n",
      "    Given a web browser is on the Google page\n",
      "    When the search phrase \"<phrase>\" is entered\n",
      "    Then results for \"<phrase>\" are shown\n",
      "    And the related results include \"<related>\"'\n"
     ]
    }
   ],
   "execution_count": 45
  },
  {
   "metadata": {
    "ExecuteTime": {
     "end_time": "2024-11-10T06:04:24.193609Z",
     "start_time": "2024-11-10T06:04:24.158468Z"
    }
   },
   "cell_type": "code",
   "source": [
    "headers_to_split_on = [\n",
    "    (\"Scenario\", \"Scenario Outline\")\n",
    "]\n",
    "\n",
    "markdown_splitter = MarkdownHeaderTextSplitter(\n",
    "    headers_to_split_on=headers_to_split_on, strip_headers=False\n",
    ")\n",
    "\n",
    "md_header_splits = markdown_splitter.split_text(content)\n",
    "\n",
    "filtered_documents = [doc for doc in md_header_splits if not doc.page_content.startswith(\"Feature:\")]\n",
    "filtered_documents"
   ],
   "id": "30b026ecc21916d2",
   "outputs": [
    {
     "data": {
      "text/plain": [
       "[Document(metadata={'Scenario Outline': '#1: Successful Log in to the website'}, page_content='Scenario #1: Successful Log in to the website\\nGiven A user brings up the login pop-up\\nWhen A user clicks Sign-in\\nAnd A user enters a valid email <email> and password <password>\\nAnd A user clicks Sign-in\\nThen A user should be successfully logged into the site'),\n",
       " Document(metadata={'Scenario Outline': '#2: Unsuccessful Log in to the website'}, page_content='Scenario #2: Unsuccessful Log in to the website\\nGiven A user brings up the login pop-up\\nWhen A user enters an invalid email <email> and password <password>\\nAnd A user clicks Sign-in\\nThen A user should not be successfully logged into the site'),\n",
       " Document(metadata={'Scenario Outline': '#3: Simple Google search'}, page_content='Scenario #3: Simple Google search\\nGiven a web browser is on the Google page\\nWhen the search phrase \"panda\" is entered\\nThen results for \"panda\" are shown\\nAnd the result page displays the text'),\n",
       " Document(metadata={'Scenario Outline': '#4: another Simple Google search'}, page_content='Scenario #4: another Simple Google search\\nGiven a web browser is on the Google page\\nWhen the search phrase \"<phrase>\" is entered\\nThen results for \"<phrase>\" are shown\\nAnd the related results include \"<related>\"')]"
      ]
     },
     "execution_count": 46,
     "metadata": {},
     "output_type": "execute_result"
    }
   ],
   "execution_count": 46
  },
  {
   "metadata": {
    "ExecuteTime": {
     "end_time": "2024-11-10T06:06:35.991889Z",
     "start_time": "2024-11-10T06:06:35.771170Z"
    }
   },
   "cell_type": "code",
   "source": [
    "# Create a vector store from the documents\n",
    "vectorstore = Chroma.from_documents(documents=filtered_documents, embedding=gpt4all_embd)\n"
   ],
   "id": "36d4b604e82cf35b",
   "outputs": [],
   "execution_count": 47
  },
  {
   "metadata": {
    "ExecuteTime": {
     "end_time": "2024-11-10T06:06:38.622665Z",
     "start_time": "2024-11-10T06:06:38.603408Z"
    }
   },
   "cell_type": "code",
   "source": "retriever = vectorstore.as_retriever()",
   "id": "a3a7ae0092278fcf",
   "outputs": [],
   "execution_count": 48
  },
  {
   "metadata": {
    "ExecuteTime": {
     "end_time": "2024-11-10T06:06:42.027855Z",
     "start_time": "2024-11-10T06:06:42.012283Z"
    }
   },
   "cell_type": "code",
   "source": "query = \"Scenario where my email is not registered and I try to login\"",
   "id": "41b8ad5be17d6715",
   "outputs": [],
   "execution_count": 49
  },
  {
   "metadata": {
    "ExecuteTime": {
     "end_time": "2024-11-10T06:06:49.577805Z",
     "start_time": "2024-11-10T06:06:49.530337Z"
    }
   },
   "cell_type": "code",
   "source": [
    "results = vectorstore.similarity_search_by_vector(embedding=gpt4all_embd.embed_query(query), k=1)\n",
    "\n",
    "print(results)\n",
    "len(results)"
   ],
   "id": "7c00884cf8585dd7",
   "outputs": [
    {
     "name": "stdout",
     "output_type": "stream",
     "text": [
      "[Document(metadata={'Scenario Outline': '#2: Unsuccessful Log in to the website'}, page_content='Scenario #2: Unsuccessful Log in to the website\\nGiven A user brings up the login pop-up\\nWhen A user enters an invalid email <email> and password <password>\\nAnd A user clicks Sign-in\\nThen A user should not be successfully logged into the site')]\n"
     ]
    },
    {
     "data": {
      "text/plain": [
       "1"
      ]
     },
     "execution_count": 50,
     "metadata": {},
     "output_type": "execute_result"
    }
   ],
   "execution_count": 50
  },
  {
   "metadata": {
    "ExecuteTime": {
     "end_time": "2024-11-10T06:07:07.349052Z",
     "start_time": "2024-11-10T06:07:07.188026Z"
    }
   },
   "cell_type": "code",
   "source": [
    "# Demonstrate Calculate similarity scores manually\n",
    "query_embedding = gpt4all_embd.embed_query(query)\n",
    "\n",
    "document_embeddings = [gpt4all_embd.embed_query(result.page_content) for result in filtered_documents]\n",
    "\n",
    "# Calculate the similarity scores\n",
    "similarity_scores = cosine_similarity([query_embedding], document_embeddings).flatten()\n",
    "\n",
    "# Print the results with similarity scores\n",
    "for result, score in zip(filtered_documents, similarity_scores):\n",
    "    print(f\"Document: {result}\\nSimilarity Score: {score}\\n\")"
   ],
   "id": "95b2634f07ecf12d",
   "outputs": [
    {
     "name": "stdout",
     "output_type": "stream",
     "text": [
      "Document: page_content='Scenario #1: Successful Log in to the website\n",
      "Given A user brings up the login pop-up\n",
      "When A user clicks Sign-in\n",
      "And A user enters a valid email <email> and password <password>\n",
      "And A user clicks Sign-in\n",
      "Then A user should be successfully logged into the site' metadata={'Scenario Outline': '#1: Successful Log in to the website'}\n",
      "Similarity Score: 0.4815506524586895\n",
      "\n",
      "Document: page_content='Scenario #2: Unsuccessful Log in to the website\n",
      "Given A user brings up the login pop-up\n",
      "When A user enters an invalid email <email> and password <password>\n",
      "And A user clicks Sign-in\n",
      "Then A user should not be successfully logged into the site' metadata={'Scenario Outline': '#2: Unsuccessful Log in to the website'}\n",
      "Similarity Score: 0.5796955321258643\n",
      "\n",
      "Document: page_content='Scenario #3: Simple Google search\n",
      "Given a web browser is on the Google page\n",
      "When the search phrase \"panda\" is entered\n",
      "Then results for \"panda\" are shown\n",
      "And the result page displays the text' metadata={'Scenario Outline': '#3: Simple Google search'}\n",
      "Similarity Score: 0.013774321768143569\n",
      "\n",
      "Document: page_content='Scenario #4: another Simple Google search\n",
      "Given a web browser is on the Google page\n",
      "When the search phrase \"<phrase>\" is entered\n",
      "Then results for \"<phrase>\" are shown\n",
      "And the related results include \"<related>\"' metadata={'Scenario Outline': '#4: another Simple Google search'}\n",
      "Similarity Score: -0.04757824023308672\n",
      "\n"
     ]
    }
   ],
   "execution_count": 51
  },
  {
   "metadata": {
    "ExecuteTime": {
     "end_time": "2024-11-10T06:07:16.474632Z",
     "start_time": "2024-11-10T06:07:16.457078Z"
    }
   },
   "cell_type": "code",
   "source": "Chroma.delete_collection(vectorstore)",
   "id": "ee4704a4b2340cea",
   "outputs": [],
   "execution_count": 52
  }
 ],
 "metadata": {
  "kernelspec": {
   "display_name": "Python 3",
   "language": "python",
   "name": "python3"
  },
  "language_info": {
   "codemirror_mode": {
    "name": "ipython",
    "version": 2
   },
   "file_extension": ".py",
   "mimetype": "text/x-python",
   "name": "python",
   "nbconvert_exporter": "python",
   "pygments_lexer": "ipython2",
   "version": "2.7.6"
  }
 },
 "nbformat": 4,
 "nbformat_minor": 5
}
