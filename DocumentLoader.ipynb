{
 "cells": [
  {
   "cell_type": "code",
   "id": "initial_id",
   "metadata": {
    "collapsed": true,
    "ExecuteTime": {
     "end_time": "2024-11-09T15:59:22.048781Z",
     "start_time": "2024-11-09T15:59:19.510503Z"
    }
   },
   "source": [
    "\n",
    "from sklearn.metrics.pairwise import cosine_similarity\n",
    "import numpy as np\n",
    "\n",
    "from langchain_community.vectorstores import Chroma\n",
    "from langchain.schema import Document\n",
    "from langchain_text_splitters import MarkdownHeaderTextSplitter\n",
    "from sentence_transformers import SentenceTransformer\n",
    "from langchain_community.embeddings import GPT4AllEmbeddings\n",
    "\n",
    "from tqdm.autonotebook import tqdm\n",
    "model = SentenceTransformer('sentence-transformers/all-MiniLM-L6-v2')\n",
    "gpt4all_embd = GPT4AllEmbeddings()\n",
    "\n"
   ],
   "outputs": [],
   "execution_count": 104
  },
  {
   "metadata": {
    "ExecuteTime": {
     "end_time": "2024-11-09T15:59:23.594156Z",
     "start_time": "2024-11-09T15:59:23.584951Z"
    }
   },
   "cell_type": "code",
   "source": [
    "# Specify the path to the plain text file\n",
    "feature_file_path = 'sample.feature'\n",
    "\n",
    "# Open and read the file\n",
    "with open(feature_file_path, 'r') as file:\n",
    "    content = file.read()\n",
    "\n",
    "# Print the content of the file\n",
    "print(content)"
   ],
   "id": "4d5d91e5c68b397d",
   "outputs": [
    {
     "name": "stdout",
     "output_type": "stream",
     "text": [
      "Feature: Login\n",
      "  As a new user\n",
      "  I want to log in to the website\n",
      "  So that the system can remember my data\n",
      "\n",
      "  Scenario #1: Successful Log in to the website\n",
      "    Given A user brings up the login pop-up\n",
      "    When A user clicks Sign-in\n",
      "    And A user enters a valid email <email> and password <password>\n",
      "    And A user clicks Sign-in\n",
      "    Then A user should be successfully logged into the site\n",
      "\n",
      "  Scenario #2: Unsuccessful Log in to the website\n",
      "    Given A user brings up the login pop-up\n",
      "    When A user enters an invalid email <email> and password <password>\n",
      "    And A user clicks Sign-in\n",
      "    Then A user should not be successfully logged into the site\n"
     ]
    }
   ],
   "execution_count": 105
  },
  {
   "metadata": {
    "ExecuteTime": {
     "end_time": "2024-11-09T15:59:28.330618Z",
     "start_time": "2024-11-09T15:59:28.321477Z"
    }
   },
   "cell_type": "code",
   "source": [
    "document = Document(page_content=content)\n",
    "print(document)"
   ],
   "id": "715129416222c125",
   "outputs": [
    {
     "name": "stdout",
     "output_type": "stream",
     "text": [
      "page_content='Feature: Login\n",
      "  As a new user\n",
      "  I want to log in to the website\n",
      "  So that the system can remember my data\n",
      "\n",
      "  Scenario #1: Successful Log in to the website\n",
      "    Given A user brings up the login pop-up\n",
      "    When A user clicks Sign-in\n",
      "    And A user enters a valid email <email> and password <password>\n",
      "    And A user clicks Sign-in\n",
      "    Then A user should be successfully logged into the site\n",
      "\n",
      "  Scenario #2: Unsuccessful Log in to the website\n",
      "    Given A user brings up the login pop-up\n",
      "    When A user enters an invalid email <email> and password <password>\n",
      "    And A user clicks Sign-in\n",
      "    Then A user should not be successfully logged into the site'\n"
     ]
    }
   ],
   "execution_count": 106
  },
  {
   "metadata": {
    "ExecuteTime": {
     "end_time": "2024-11-09T15:59:31.903367Z",
     "start_time": "2024-11-09T15:59:31.884167Z"
    }
   },
   "cell_type": "code",
   "source": [
    "headers_to_split_on = [\n",
    "    (\"Scenario\", \"Scenario Outline\")\n",
    "]\n",
    "\n",
    "markdown_splitter = MarkdownHeaderTextSplitter(\n",
    "    headers_to_split_on=headers_to_split_on, strip_headers=False\n",
    ")\n",
    "\n",
    "md_header_splits = markdown_splitter.split_text(content)\n",
    "md_header_splits"
   ],
   "id": "30b026ecc21916d2",
   "outputs": [
    {
     "data": {
      "text/plain": [
       "[Document(metadata={}, page_content='Feature: Login\\nAs a new user\\nI want to log in to the website\\nSo that the system can remember my data'),\n",
       " Document(metadata={'Scenario Outline': '#1: Successful Log in to the website'}, page_content='Scenario #1: Successful Log in to the website\\nGiven A user brings up the login pop-up\\nWhen A user clicks Sign-in\\nAnd A user enters a valid email <email> and password <password>\\nAnd A user clicks Sign-in\\nThen A user should be successfully logged into the site'),\n",
       " Document(metadata={'Scenario Outline': '#2: Unsuccessful Log in to the website'}, page_content='Scenario #2: Unsuccessful Log in to the website\\nGiven A user brings up the login pop-up\\nWhen A user enters an invalid email <email> and password <password>\\nAnd A user clicks Sign-in\\nThen A user should not be successfully logged into the site')]"
      ]
     },
     "execution_count": 107,
     "metadata": {},
     "output_type": "execute_result"
    }
   ],
   "execution_count": 107
  },
  {
   "metadata": {
    "ExecuteTime": {
     "end_time": "2024-11-09T15:59:45.241669Z",
     "start_time": "2024-11-09T15:59:45.103504Z"
    }
   },
   "cell_type": "code",
   "source": [
    "# Create a vector store from the documents\n",
    "vectorstore = Chroma.from_documents(documents=md_header_splits, embedding=gpt4all_embd)\n"
   ],
   "id": "36d4b604e82cf35b",
   "outputs": [],
   "execution_count": 110
  },
  {
   "metadata": {
    "ExecuteTime": {
     "end_time": "2024-11-09T15:59:42.426637Z",
     "start_time": "2024-11-09T15:59:41.757424Z"
    }
   },
   "cell_type": "code",
   "source": [
    "# Reinitialize the vector store to clear it\n",
    "vectorstore = Chroma.from_documents(documents=[], embedding=gpt4all_embd)"
   ],
   "id": "4efbfa8f60d0ab07",
   "outputs": [
    {
     "ename": "IndexError",
     "evalue": "list index out of range in upsert.",
     "output_type": "error",
     "traceback": [
      "\u001B[1;31m---------------------------------------------------------------------------\u001B[0m",
      "\u001B[1;31mIndexError\u001B[0m                                Traceback (most recent call last)",
      "File \u001B[1;32m~\\IdeaProjects\\rag-from-scratch\\venv\\Lib\\site-packages\\chromadb\\api\\models\\CollectionCommon.py:90\u001B[0m, in \u001B[0;36mvalidation_context.<locals>.decorator.<locals>.wrapper\u001B[1;34m(self, *args, **kwargs)\u001B[0m\n\u001B[0;32m     89\u001B[0m \u001B[38;5;28;01mtry\u001B[39;00m:\n\u001B[1;32m---> 90\u001B[0m     \u001B[38;5;28;01mreturn\u001B[39;00m \u001B[43mfunc\u001B[49m\u001B[43m(\u001B[49m\u001B[38;5;28;43mself\u001B[39;49m\u001B[43m,\u001B[49m\u001B[43m \u001B[49m\u001B[38;5;241;43m*\u001B[39;49m\u001B[43margs\u001B[49m\u001B[43m,\u001B[49m\u001B[43m \u001B[49m\u001B[38;5;241;43m*\u001B[39;49m\u001B[38;5;241;43m*\u001B[39;49m\u001B[43mkwargs\u001B[49m\u001B[43m)\u001B[49m\n\u001B[0;32m     91\u001B[0m \u001B[38;5;28;01mexcept\u001B[39;00m \u001B[38;5;167;01mException\u001B[39;00m \u001B[38;5;28;01mas\u001B[39;00m e:\n",
      "File \u001B[1;32m~\\IdeaProjects\\rag-from-scratch\\venv\\Lib\\site-packages\\chromadb\\api\\models\\CollectionCommon.py:389\u001B[0m, in \u001B[0;36mCollectionCommon._validate_and_prepare_upsert_request\u001B[1;34m(self, ids, embeddings, metadatas, documents, images, uris)\u001B[0m\n\u001B[0;32m    373\u001B[0m \u001B[38;5;129m@validation_context\u001B[39m(\u001B[38;5;124m\"\u001B[39m\u001B[38;5;124mupsert\u001B[39m\u001B[38;5;124m\"\u001B[39m)\n\u001B[0;32m    374\u001B[0m \u001B[38;5;28;01mdef\u001B[39;00m \u001B[38;5;21m_validate_and_prepare_upsert_request\u001B[39m(\n\u001B[0;32m    375\u001B[0m     \u001B[38;5;28mself\u001B[39m,\n\u001B[1;32m   (...)\u001B[0m\n\u001B[0;32m    387\u001B[0m ) \u001B[38;5;241m-\u001B[39m\u001B[38;5;241m>\u001B[39m UpsertRequest:\n\u001B[0;32m    388\u001B[0m     \u001B[38;5;66;03m# Unpack\u001B[39;00m\n\u001B[1;32m--> 389\u001B[0m     upsert_records \u001B[38;5;241m=\u001B[39m \u001B[43mnormalize_insert_record_set\u001B[49m\u001B[43m(\u001B[49m\n\u001B[0;32m    390\u001B[0m \u001B[43m        \u001B[49m\u001B[43mids\u001B[49m\u001B[38;5;241;43m=\u001B[39;49m\u001B[43mids\u001B[49m\u001B[43m,\u001B[49m\n\u001B[0;32m    391\u001B[0m \u001B[43m        \u001B[49m\u001B[43membeddings\u001B[49m\u001B[38;5;241;43m=\u001B[39;49m\u001B[43membeddings\u001B[49m\u001B[43m,\u001B[49m\n\u001B[0;32m    392\u001B[0m \u001B[43m        \u001B[49m\u001B[43mmetadatas\u001B[49m\u001B[38;5;241;43m=\u001B[39;49m\u001B[43mmetadatas\u001B[49m\u001B[43m,\u001B[49m\n\u001B[0;32m    393\u001B[0m \u001B[43m        \u001B[49m\u001B[43mdocuments\u001B[49m\u001B[38;5;241;43m=\u001B[39;49m\u001B[43mdocuments\u001B[49m\u001B[43m,\u001B[49m\n\u001B[0;32m    394\u001B[0m \u001B[43m        \u001B[49m\u001B[43mimages\u001B[49m\u001B[38;5;241;43m=\u001B[39;49m\u001B[43mimages\u001B[49m\u001B[43m,\u001B[49m\n\u001B[0;32m    395\u001B[0m \u001B[43m        \u001B[49m\u001B[43muris\u001B[49m\u001B[38;5;241;43m=\u001B[39;49m\u001B[43muris\u001B[49m\u001B[43m,\u001B[49m\n\u001B[0;32m    396\u001B[0m \u001B[43m    \u001B[49m\u001B[43m)\u001B[49m\n\u001B[0;32m    398\u001B[0m     \u001B[38;5;66;03m# Validate\u001B[39;00m\n",
      "File \u001B[1;32m~\\IdeaProjects\\rag-from-scratch\\venv\\Lib\\site-packages\\chromadb\\api\\types.py:181\u001B[0m, in \u001B[0;36mnormalize_insert_record_set\u001B[1;34m(ids, embeddings, metadatas, documents, images, uris)\u001B[0m\n\u001B[0;32m    178\u001B[0m \u001B[38;5;250m\u001B[39m\u001B[38;5;124;03m\"\"\"\u001B[39;00m\n\u001B[0;32m    179\u001B[0m \u001B[38;5;124;03mUnpacks and normalizes the fields of an InsertRecordSet.\u001B[39;00m\n\u001B[0;32m    180\u001B[0m \u001B[38;5;124;03m\"\"\"\u001B[39;00m\n\u001B[1;32m--> 181\u001B[0m base_record_set \u001B[38;5;241m=\u001B[39m \u001B[43mnormalize_base_record_set\u001B[49m\u001B[43m(\u001B[49m\n\u001B[0;32m    182\u001B[0m \u001B[43m    \u001B[49m\u001B[43membeddings\u001B[49m\u001B[38;5;241;43m=\u001B[39;49m\u001B[43membeddings\u001B[49m\u001B[43m,\u001B[49m\u001B[43m \u001B[49m\u001B[43mdocuments\u001B[49m\u001B[38;5;241;43m=\u001B[39;49m\u001B[43mdocuments\u001B[49m\u001B[43m,\u001B[49m\u001B[43m \u001B[49m\u001B[43mimages\u001B[49m\u001B[38;5;241;43m=\u001B[39;49m\u001B[43mimages\u001B[49m\u001B[43m,\u001B[49m\u001B[43m \u001B[49m\u001B[43muris\u001B[49m\u001B[38;5;241;43m=\u001B[39;49m\u001B[43muris\u001B[49m\n\u001B[0;32m    183\u001B[0m \u001B[43m\u001B[49m\u001B[43m)\u001B[49m\n\u001B[0;32m    185\u001B[0m \u001B[38;5;28;01mreturn\u001B[39;00m InsertRecordSet(\n\u001B[0;32m    186\u001B[0m     ids\u001B[38;5;241m=\u001B[39mcast(IDs, maybe_cast_one_to_many(ids)),\n\u001B[0;32m    187\u001B[0m     metadatas\u001B[38;5;241m=\u001B[39mmaybe_cast_one_to_many(metadatas),\n\u001B[1;32m   (...)\u001B[0m\n\u001B[0;32m    191\u001B[0m     uris\u001B[38;5;241m=\u001B[39mbase_record_set[\u001B[38;5;124m\"\u001B[39m\u001B[38;5;124muris\u001B[39m\u001B[38;5;124m\"\u001B[39m],\n\u001B[0;32m    192\u001B[0m )\n",
      "File \u001B[1;32m~\\IdeaProjects\\rag-from-scratch\\venv\\Lib\\site-packages\\chromadb\\api\\types.py:158\u001B[0m, in \u001B[0;36mnormalize_base_record_set\u001B[1;34m(embeddings, documents, images, uris)\u001B[0m\n\u001B[0;32m    153\u001B[0m \u001B[38;5;250m\u001B[39m\u001B[38;5;124;03m\"\"\"\u001B[39;00m\n\u001B[0;32m    154\u001B[0m \u001B[38;5;124;03mUnpacks and normalizes the fields of a BaseRecordSet.\u001B[39;00m\n\u001B[0;32m    155\u001B[0m \u001B[38;5;124;03m\"\"\"\u001B[39;00m\n\u001B[0;32m    157\u001B[0m \u001B[38;5;28;01mreturn\u001B[39;00m BaseRecordSet(\n\u001B[1;32m--> 158\u001B[0m     embeddings\u001B[38;5;241m=\u001B[39m\u001B[43mnormalize_embeddings\u001B[49m\u001B[43m(\u001B[49m\u001B[43membeddings\u001B[49m\u001B[43m)\u001B[49m,\n\u001B[0;32m    159\u001B[0m     documents\u001B[38;5;241m=\u001B[39mmaybe_cast_one_to_many(documents),\n\u001B[0;32m    160\u001B[0m     images\u001B[38;5;241m=\u001B[39mmaybe_cast_one_to_many(images),\n\u001B[0;32m    161\u001B[0m     uris\u001B[38;5;241m=\u001B[39mmaybe_cast_one_to_many(uris),\n\u001B[0;32m    162\u001B[0m )\n",
      "File \u001B[1;32m~\\IdeaProjects\\rag-from-scratch\\venv\\Lib\\site-packages\\chromadb\\api\\types.py:61\u001B[0m, in \u001B[0;36mnormalize_embeddings\u001B[1;34m(target)\u001B[0m\n\u001B[0;32m     59\u001B[0m \u001B[38;5;28;01mif\u001B[39;00m \u001B[38;5;28misinstance\u001B[39m(target, \u001B[38;5;28mlist\u001B[39m):\n\u001B[0;32m     60\u001B[0m     \u001B[38;5;66;03m# One PyEmbedding\u001B[39;00m\n\u001B[1;32m---> 61\u001B[0m     \u001B[38;5;28;01mif\u001B[39;00m \u001B[38;5;28misinstance\u001B[39m(\u001B[43mtarget\u001B[49m\u001B[43m[\u001B[49m\u001B[38;5;241;43m0\u001B[39;49m\u001B[43m]\u001B[49m, (\u001B[38;5;28mint\u001B[39m, \u001B[38;5;28mfloat\u001B[39m)) \u001B[38;5;129;01mand\u001B[39;00m \u001B[38;5;129;01mnot\u001B[39;00m \u001B[38;5;28misinstance\u001B[39m(target[\u001B[38;5;241m0\u001B[39m], \u001B[38;5;28mbool\u001B[39m):\n\u001B[0;32m     62\u001B[0m         \u001B[38;5;28;01mreturn\u001B[39;00m [np\u001B[38;5;241m.\u001B[39marray(target, dtype\u001B[38;5;241m=\u001B[39mnp\u001B[38;5;241m.\u001B[39mfloat32)]\n",
      "\u001B[1;31mIndexError\u001B[0m: list index out of range",
      "\nDuring handling of the above exception, another exception occurred:\n",
      "\u001B[1;31mIndexError\u001B[0m                                Traceback (most recent call last)",
      "Cell \u001B[1;32mIn[109], line 2\u001B[0m\n\u001B[0;32m      1\u001B[0m \u001B[38;5;66;03m# Reinitialize the vector store to clear it\u001B[39;00m\n\u001B[1;32m----> 2\u001B[0m vectorstore \u001B[38;5;241m=\u001B[39m \u001B[43mChroma\u001B[49m\u001B[38;5;241;43m.\u001B[39;49m\u001B[43mfrom_documents\u001B[49m\u001B[43m(\u001B[49m\u001B[43mdocuments\u001B[49m\u001B[38;5;241;43m=\u001B[39;49m\u001B[43m[\u001B[49m\u001B[43m]\u001B[49m\u001B[43m,\u001B[49m\u001B[43m \u001B[49m\u001B[43membedding\u001B[49m\u001B[38;5;241;43m=\u001B[39;49m\u001B[43mgpt4all_embd\u001B[49m\u001B[43m)\u001B[49m\n",
      "File \u001B[1;32m~\\IdeaProjects\\rag-from-scratch\\venv\\Lib\\site-packages\\langchain_community\\vectorstores\\chroma.py:881\u001B[0m, in \u001B[0;36mChroma.from_documents\u001B[1;34m(cls, documents, embedding, ids, collection_name, persist_directory, client_settings, client, collection_metadata, **kwargs)\u001B[0m\n\u001B[0;32m    879\u001B[0m texts \u001B[38;5;241m=\u001B[39m [doc\u001B[38;5;241m.\u001B[39mpage_content \u001B[38;5;28;01mfor\u001B[39;00m doc \u001B[38;5;129;01min\u001B[39;00m documents]\n\u001B[0;32m    880\u001B[0m metadatas \u001B[38;5;241m=\u001B[39m [doc\u001B[38;5;241m.\u001B[39mmetadata \u001B[38;5;28;01mfor\u001B[39;00m doc \u001B[38;5;129;01min\u001B[39;00m documents]\n\u001B[1;32m--> 881\u001B[0m \u001B[38;5;28;01mreturn\u001B[39;00m \u001B[38;5;28;43mcls\u001B[39;49m\u001B[38;5;241;43m.\u001B[39;49m\u001B[43mfrom_texts\u001B[49m\u001B[43m(\u001B[49m\n\u001B[0;32m    882\u001B[0m \u001B[43m    \u001B[49m\u001B[43mtexts\u001B[49m\u001B[38;5;241;43m=\u001B[39;49m\u001B[43mtexts\u001B[49m\u001B[43m,\u001B[49m\n\u001B[0;32m    883\u001B[0m \u001B[43m    \u001B[49m\u001B[43membedding\u001B[49m\u001B[38;5;241;43m=\u001B[39;49m\u001B[43membedding\u001B[49m\u001B[43m,\u001B[49m\n\u001B[0;32m    884\u001B[0m \u001B[43m    \u001B[49m\u001B[43mmetadatas\u001B[49m\u001B[38;5;241;43m=\u001B[39;49m\u001B[43mmetadatas\u001B[49m\u001B[43m,\u001B[49m\n\u001B[0;32m    885\u001B[0m \u001B[43m    \u001B[49m\u001B[43mids\u001B[49m\u001B[38;5;241;43m=\u001B[39;49m\u001B[43mids\u001B[49m\u001B[43m,\u001B[49m\n\u001B[0;32m    886\u001B[0m \u001B[43m    \u001B[49m\u001B[43mcollection_name\u001B[49m\u001B[38;5;241;43m=\u001B[39;49m\u001B[43mcollection_name\u001B[49m\u001B[43m,\u001B[49m\n\u001B[0;32m    887\u001B[0m \u001B[43m    \u001B[49m\u001B[43mpersist_directory\u001B[49m\u001B[38;5;241;43m=\u001B[39;49m\u001B[43mpersist_directory\u001B[49m\u001B[43m,\u001B[49m\n\u001B[0;32m    888\u001B[0m \u001B[43m    \u001B[49m\u001B[43mclient_settings\u001B[49m\u001B[38;5;241;43m=\u001B[39;49m\u001B[43mclient_settings\u001B[49m\u001B[43m,\u001B[49m\n\u001B[0;32m    889\u001B[0m \u001B[43m    \u001B[49m\u001B[43mclient\u001B[49m\u001B[38;5;241;43m=\u001B[39;49m\u001B[43mclient\u001B[49m\u001B[43m,\u001B[49m\n\u001B[0;32m    890\u001B[0m \u001B[43m    \u001B[49m\u001B[43mcollection_metadata\u001B[49m\u001B[38;5;241;43m=\u001B[39;49m\u001B[43mcollection_metadata\u001B[49m\u001B[43m,\u001B[49m\n\u001B[0;32m    891\u001B[0m \u001B[43m    \u001B[49m\u001B[38;5;241;43m*\u001B[39;49m\u001B[38;5;241;43m*\u001B[39;49m\u001B[43mkwargs\u001B[49m\u001B[43m,\u001B[49m\n\u001B[0;32m    892\u001B[0m \u001B[43m\u001B[49m\u001B[43m)\u001B[49m\n",
      "File \u001B[1;32m~\\IdeaProjects\\rag-from-scratch\\venv\\Lib\\site-packages\\langchain_community\\vectorstores\\chroma.py:843\u001B[0m, in \u001B[0;36mChroma.from_texts\u001B[1;34m(cls, texts, embedding, metadatas, ids, collection_name, persist_directory, client_settings, client, collection_metadata, **kwargs)\u001B[0m\n\u001B[0;32m    837\u001B[0m         chroma_collection\u001B[38;5;241m.\u001B[39madd_texts(\n\u001B[0;32m    838\u001B[0m             texts\u001B[38;5;241m=\u001B[39mbatch[\u001B[38;5;241m3\u001B[39m] \u001B[38;5;28;01mif\u001B[39;00m batch[\u001B[38;5;241m3\u001B[39m] \u001B[38;5;28;01melse\u001B[39;00m [],\n\u001B[0;32m    839\u001B[0m             metadatas\u001B[38;5;241m=\u001B[39mbatch[\u001B[38;5;241m2\u001B[39m] \u001B[38;5;28;01mif\u001B[39;00m batch[\u001B[38;5;241m2\u001B[39m] \u001B[38;5;28;01melse\u001B[39;00m \u001B[38;5;28;01mNone\u001B[39;00m,  \u001B[38;5;66;03m# type: ignore[arg-type]\u001B[39;00m\n\u001B[0;32m    840\u001B[0m             ids\u001B[38;5;241m=\u001B[39mbatch[\u001B[38;5;241m0\u001B[39m],\n\u001B[0;32m    841\u001B[0m         )\n\u001B[0;32m    842\u001B[0m \u001B[38;5;28;01melse\u001B[39;00m:\n\u001B[1;32m--> 843\u001B[0m     \u001B[43mchroma_collection\u001B[49m\u001B[38;5;241;43m.\u001B[39;49m\u001B[43madd_texts\u001B[49m\u001B[43m(\u001B[49m\u001B[43mtexts\u001B[49m\u001B[38;5;241;43m=\u001B[39;49m\u001B[43mtexts\u001B[49m\u001B[43m,\u001B[49m\u001B[43m \u001B[49m\u001B[43mmetadatas\u001B[49m\u001B[38;5;241;43m=\u001B[39;49m\u001B[43mmetadatas\u001B[49m\u001B[43m,\u001B[49m\u001B[43m \u001B[49m\u001B[43mids\u001B[49m\u001B[38;5;241;43m=\u001B[39;49m\u001B[43mids\u001B[49m\u001B[43m)\u001B[49m\n\u001B[0;32m    844\u001B[0m \u001B[38;5;28;01mreturn\u001B[39;00m chroma_collection\n",
      "File \u001B[1;32m~\\IdeaProjects\\rag-from-scratch\\venv\\Lib\\site-packages\\langchain_community\\vectorstores\\chroma.py:326\u001B[0m, in \u001B[0;36mChroma.add_texts\u001B[1;34m(self, texts, metadatas, ids, **kwargs)\u001B[0m\n\u001B[0;32m    320\u001B[0m         \u001B[38;5;28mself\u001B[39m\u001B[38;5;241m.\u001B[39m_collection\u001B[38;5;241m.\u001B[39mupsert(\n\u001B[0;32m    321\u001B[0m             embeddings\u001B[38;5;241m=\u001B[39membeddings_without_metadatas,  \u001B[38;5;66;03m# type: ignore[arg-type]\u001B[39;00m\n\u001B[0;32m    322\u001B[0m             documents\u001B[38;5;241m=\u001B[39mtexts_without_metadatas,\n\u001B[0;32m    323\u001B[0m             ids\u001B[38;5;241m=\u001B[39mids_without_metadatas,\n\u001B[0;32m    324\u001B[0m         )\n\u001B[0;32m    325\u001B[0m \u001B[38;5;28;01melse\u001B[39;00m:\n\u001B[1;32m--> 326\u001B[0m     \u001B[38;5;28;43mself\u001B[39;49m\u001B[38;5;241;43m.\u001B[39;49m\u001B[43m_collection\u001B[49m\u001B[38;5;241;43m.\u001B[39;49m\u001B[43mupsert\u001B[49m\u001B[43m(\u001B[49m\n\u001B[0;32m    327\u001B[0m \u001B[43m        \u001B[49m\u001B[43membeddings\u001B[49m\u001B[38;5;241;43m=\u001B[39;49m\u001B[43membeddings\u001B[49m\u001B[43m,\u001B[49m\u001B[43m  \u001B[49m\u001B[38;5;66;43;03m# type: ignore[arg-type]\u001B[39;49;00m\n\u001B[0;32m    328\u001B[0m \u001B[43m        \u001B[49m\u001B[43mdocuments\u001B[49m\u001B[38;5;241;43m=\u001B[39;49m\u001B[43mtexts\u001B[49m\u001B[43m,\u001B[49m\n\u001B[0;32m    329\u001B[0m \u001B[43m        \u001B[49m\u001B[43mids\u001B[49m\u001B[38;5;241;43m=\u001B[39;49m\u001B[43mids\u001B[49m\u001B[43m,\u001B[49m\n\u001B[0;32m    330\u001B[0m \u001B[43m    \u001B[49m\u001B[43m)\u001B[49m\n\u001B[0;32m    331\u001B[0m \u001B[38;5;28;01mreturn\u001B[39;00m ids\n",
      "File \u001B[1;32m~\\IdeaProjects\\rag-from-scratch\\venv\\Lib\\site-packages\\chromadb\\api\\models\\Collection.py:334\u001B[0m, in \u001B[0;36mCollection.upsert\u001B[1;34m(self, ids, embeddings, metadatas, documents, images, uris)\u001B[0m\n\u001B[0;32m    309\u001B[0m \u001B[38;5;28;01mdef\u001B[39;00m \u001B[38;5;21mupsert\u001B[39m(\n\u001B[0;32m    310\u001B[0m     \u001B[38;5;28mself\u001B[39m,\n\u001B[0;32m    311\u001B[0m     ids: OneOrMany[ID],\n\u001B[1;32m   (...)\u001B[0m\n\u001B[0;32m    321\u001B[0m     uris: Optional[OneOrMany[URI]] \u001B[38;5;241m=\u001B[39m \u001B[38;5;28;01mNone\u001B[39;00m,\n\u001B[0;32m    322\u001B[0m ) \u001B[38;5;241m-\u001B[39m\u001B[38;5;241m>\u001B[39m \u001B[38;5;28;01mNone\u001B[39;00m:\n\u001B[0;32m    323\u001B[0m \u001B[38;5;250m    \u001B[39m\u001B[38;5;124;03m\"\"\"Update the embeddings, metadatas or documents for provided ids, or create them if they don't exist.\u001B[39;00m\n\u001B[0;32m    324\u001B[0m \n\u001B[0;32m    325\u001B[0m \u001B[38;5;124;03m    Args:\u001B[39;00m\n\u001B[1;32m   (...)\u001B[0m\n\u001B[0;32m    332\u001B[0m \u001B[38;5;124;03m        None\u001B[39;00m\n\u001B[0;32m    333\u001B[0m \u001B[38;5;124;03m    \"\"\"\u001B[39;00m\n\u001B[1;32m--> 334\u001B[0m     upsert_request \u001B[38;5;241m=\u001B[39m \u001B[38;5;28;43mself\u001B[39;49m\u001B[38;5;241;43m.\u001B[39;49m\u001B[43m_validate_and_prepare_upsert_request\u001B[49m\u001B[43m(\u001B[49m\n\u001B[0;32m    335\u001B[0m \u001B[43m        \u001B[49m\u001B[43mids\u001B[49m\u001B[38;5;241;43m=\u001B[39;49m\u001B[43mids\u001B[49m\u001B[43m,\u001B[49m\n\u001B[0;32m    336\u001B[0m \u001B[43m        \u001B[49m\u001B[43membeddings\u001B[49m\u001B[38;5;241;43m=\u001B[39;49m\u001B[43membeddings\u001B[49m\u001B[43m,\u001B[49m\n\u001B[0;32m    337\u001B[0m \u001B[43m        \u001B[49m\u001B[43mmetadatas\u001B[49m\u001B[38;5;241;43m=\u001B[39;49m\u001B[43mmetadatas\u001B[49m\u001B[43m,\u001B[49m\n\u001B[0;32m    338\u001B[0m \u001B[43m        \u001B[49m\u001B[43mdocuments\u001B[49m\u001B[38;5;241;43m=\u001B[39;49m\u001B[43mdocuments\u001B[49m\u001B[43m,\u001B[49m\n\u001B[0;32m    339\u001B[0m \u001B[43m        \u001B[49m\u001B[43mimages\u001B[49m\u001B[38;5;241;43m=\u001B[39;49m\u001B[43mimages\u001B[49m\u001B[43m,\u001B[49m\n\u001B[0;32m    340\u001B[0m \u001B[43m        \u001B[49m\u001B[43muris\u001B[49m\u001B[38;5;241;43m=\u001B[39;49m\u001B[43muris\u001B[49m\u001B[43m,\u001B[49m\n\u001B[0;32m    341\u001B[0m \u001B[43m    \u001B[49m\u001B[43m)\u001B[49m\n\u001B[0;32m    343\u001B[0m     \u001B[38;5;28mself\u001B[39m\u001B[38;5;241m.\u001B[39m_client\u001B[38;5;241m.\u001B[39m_upsert(\n\u001B[0;32m    344\u001B[0m         collection_id\u001B[38;5;241m=\u001B[39m\u001B[38;5;28mself\u001B[39m\u001B[38;5;241m.\u001B[39mid,\n\u001B[0;32m    345\u001B[0m         ids\u001B[38;5;241m=\u001B[39mupsert_request[\u001B[38;5;124m\"\u001B[39m\u001B[38;5;124mids\u001B[39m\u001B[38;5;124m\"\u001B[39m],\n\u001B[1;32m   (...)\u001B[0m\n\u001B[0;32m    349\u001B[0m         uris\u001B[38;5;241m=\u001B[39mupsert_request[\u001B[38;5;124m\"\u001B[39m\u001B[38;5;124muris\u001B[39m\u001B[38;5;124m\"\u001B[39m],\n\u001B[0;32m    350\u001B[0m     )\n",
      "File \u001B[1;32m~\\IdeaProjects\\rag-from-scratch\\venv\\Lib\\site-packages\\chromadb\\api\\models\\CollectionCommon.py:93\u001B[0m, in \u001B[0;36mvalidation_context.<locals>.decorator.<locals>.wrapper\u001B[1;34m(self, *args, **kwargs)\u001B[0m\n\u001B[0;32m     91\u001B[0m \u001B[38;5;28;01mexcept\u001B[39;00m \u001B[38;5;167;01mException\u001B[39;00m \u001B[38;5;28;01mas\u001B[39;00m e:\n\u001B[0;32m     92\u001B[0m     msg \u001B[38;5;241m=\u001B[39m \u001B[38;5;124mf\u001B[39m\u001B[38;5;124m\"\u001B[39m\u001B[38;5;132;01m{\u001B[39;00m\u001B[38;5;28mstr\u001B[39m(e)\u001B[38;5;132;01m}\u001B[39;00m\u001B[38;5;124m in \u001B[39m\u001B[38;5;132;01m{\u001B[39;00mname\u001B[38;5;132;01m}\u001B[39;00m\u001B[38;5;124m.\u001B[39m\u001B[38;5;124m\"\u001B[39m\n\u001B[1;32m---> 93\u001B[0m     \u001B[38;5;28;01mraise\u001B[39;00m \u001B[38;5;28mtype\u001B[39m(e)(msg)\u001B[38;5;241m.\u001B[39mwith_traceback(e\u001B[38;5;241m.\u001B[39m__traceback__)\n",
      "File \u001B[1;32m~\\IdeaProjects\\rag-from-scratch\\venv\\Lib\\site-packages\\chromadb\\api\\models\\CollectionCommon.py:90\u001B[0m, in \u001B[0;36mvalidation_context.<locals>.decorator.<locals>.wrapper\u001B[1;34m(self, *args, **kwargs)\u001B[0m\n\u001B[0;32m     87\u001B[0m \u001B[38;5;129m@functools\u001B[39m\u001B[38;5;241m.\u001B[39mwraps(func)\n\u001B[0;32m     88\u001B[0m \u001B[38;5;28;01mdef\u001B[39;00m \u001B[38;5;21mwrapper\u001B[39m(\u001B[38;5;28mself\u001B[39m: Any, \u001B[38;5;241m*\u001B[39margs: Any, \u001B[38;5;241m*\u001B[39m\u001B[38;5;241m*\u001B[39mkwargs: Any) \u001B[38;5;241m-\u001B[39m\u001B[38;5;241m>\u001B[39m T:\n\u001B[0;32m     89\u001B[0m     \u001B[38;5;28;01mtry\u001B[39;00m:\n\u001B[1;32m---> 90\u001B[0m         \u001B[38;5;28;01mreturn\u001B[39;00m \u001B[43mfunc\u001B[49m\u001B[43m(\u001B[49m\u001B[38;5;28;43mself\u001B[39;49m\u001B[43m,\u001B[49m\u001B[43m \u001B[49m\u001B[38;5;241;43m*\u001B[39;49m\u001B[43margs\u001B[49m\u001B[43m,\u001B[49m\u001B[43m \u001B[49m\u001B[38;5;241;43m*\u001B[39;49m\u001B[38;5;241;43m*\u001B[39;49m\u001B[43mkwargs\u001B[49m\u001B[43m)\u001B[49m\n\u001B[0;32m     91\u001B[0m     \u001B[38;5;28;01mexcept\u001B[39;00m \u001B[38;5;167;01mException\u001B[39;00m \u001B[38;5;28;01mas\u001B[39;00m e:\n\u001B[0;32m     92\u001B[0m         msg \u001B[38;5;241m=\u001B[39m \u001B[38;5;124mf\u001B[39m\u001B[38;5;124m\"\u001B[39m\u001B[38;5;132;01m{\u001B[39;00m\u001B[38;5;28mstr\u001B[39m(e)\u001B[38;5;132;01m}\u001B[39;00m\u001B[38;5;124m in \u001B[39m\u001B[38;5;132;01m{\u001B[39;00mname\u001B[38;5;132;01m}\u001B[39;00m\u001B[38;5;124m.\u001B[39m\u001B[38;5;124m\"\u001B[39m\n",
      "File \u001B[1;32m~\\IdeaProjects\\rag-from-scratch\\venv\\Lib\\site-packages\\chromadb\\api\\models\\CollectionCommon.py:389\u001B[0m, in \u001B[0;36mCollectionCommon._validate_and_prepare_upsert_request\u001B[1;34m(self, ids, embeddings, metadatas, documents, images, uris)\u001B[0m\n\u001B[0;32m    373\u001B[0m \u001B[38;5;129m@validation_context\u001B[39m(\u001B[38;5;124m\"\u001B[39m\u001B[38;5;124mupsert\u001B[39m\u001B[38;5;124m\"\u001B[39m)\n\u001B[0;32m    374\u001B[0m \u001B[38;5;28;01mdef\u001B[39;00m \u001B[38;5;21m_validate_and_prepare_upsert_request\u001B[39m(\n\u001B[0;32m    375\u001B[0m     \u001B[38;5;28mself\u001B[39m,\n\u001B[1;32m   (...)\u001B[0m\n\u001B[0;32m    387\u001B[0m ) \u001B[38;5;241m-\u001B[39m\u001B[38;5;241m>\u001B[39m UpsertRequest:\n\u001B[0;32m    388\u001B[0m     \u001B[38;5;66;03m# Unpack\u001B[39;00m\n\u001B[1;32m--> 389\u001B[0m     upsert_records \u001B[38;5;241m=\u001B[39m \u001B[43mnormalize_insert_record_set\u001B[49m\u001B[43m(\u001B[49m\n\u001B[0;32m    390\u001B[0m \u001B[43m        \u001B[49m\u001B[43mids\u001B[49m\u001B[38;5;241;43m=\u001B[39;49m\u001B[43mids\u001B[49m\u001B[43m,\u001B[49m\n\u001B[0;32m    391\u001B[0m \u001B[43m        \u001B[49m\u001B[43membeddings\u001B[49m\u001B[38;5;241;43m=\u001B[39;49m\u001B[43membeddings\u001B[49m\u001B[43m,\u001B[49m\n\u001B[0;32m    392\u001B[0m \u001B[43m        \u001B[49m\u001B[43mmetadatas\u001B[49m\u001B[38;5;241;43m=\u001B[39;49m\u001B[43mmetadatas\u001B[49m\u001B[43m,\u001B[49m\n\u001B[0;32m    393\u001B[0m \u001B[43m        \u001B[49m\u001B[43mdocuments\u001B[49m\u001B[38;5;241;43m=\u001B[39;49m\u001B[43mdocuments\u001B[49m\u001B[43m,\u001B[49m\n\u001B[0;32m    394\u001B[0m \u001B[43m        \u001B[49m\u001B[43mimages\u001B[49m\u001B[38;5;241;43m=\u001B[39;49m\u001B[43mimages\u001B[49m\u001B[43m,\u001B[49m\n\u001B[0;32m    395\u001B[0m \u001B[43m        \u001B[49m\u001B[43muris\u001B[49m\u001B[38;5;241;43m=\u001B[39;49m\u001B[43muris\u001B[49m\u001B[43m,\u001B[49m\n\u001B[0;32m    396\u001B[0m \u001B[43m    \u001B[49m\u001B[43m)\u001B[49m\n\u001B[0;32m    398\u001B[0m     \u001B[38;5;66;03m# Validate\u001B[39;00m\n\u001B[0;32m    399\u001B[0m     validate_insert_record_set(record_set\u001B[38;5;241m=\u001B[39mupsert_records)\n",
      "File \u001B[1;32m~\\IdeaProjects\\rag-from-scratch\\venv\\Lib\\site-packages\\chromadb\\api\\types.py:181\u001B[0m, in \u001B[0;36mnormalize_insert_record_set\u001B[1;34m(ids, embeddings, metadatas, documents, images, uris)\u001B[0m\n\u001B[0;32m    165\u001B[0m \u001B[38;5;28;01mdef\u001B[39;00m \u001B[38;5;21mnormalize_insert_record_set\u001B[39m(\n\u001B[0;32m    166\u001B[0m     ids: OneOrMany[ID],\n\u001B[0;32m    167\u001B[0m     embeddings: Optional[\n\u001B[1;32m   (...)\u001B[0m\n\u001B[0;32m    176\u001B[0m     uris: Optional[OneOrMany[URI]] \u001B[38;5;241m=\u001B[39m \u001B[38;5;28;01mNone\u001B[39;00m,\n\u001B[0;32m    177\u001B[0m ) \u001B[38;5;241m-\u001B[39m\u001B[38;5;241m>\u001B[39m InsertRecordSet:\n\u001B[0;32m    178\u001B[0m \u001B[38;5;250m    \u001B[39m\u001B[38;5;124;03m\"\"\"\u001B[39;00m\n\u001B[0;32m    179\u001B[0m \u001B[38;5;124;03m    Unpacks and normalizes the fields of an InsertRecordSet.\u001B[39;00m\n\u001B[0;32m    180\u001B[0m \u001B[38;5;124;03m    \"\"\"\u001B[39;00m\n\u001B[1;32m--> 181\u001B[0m     base_record_set \u001B[38;5;241m=\u001B[39m \u001B[43mnormalize_base_record_set\u001B[49m\u001B[43m(\u001B[49m\n\u001B[0;32m    182\u001B[0m \u001B[43m        \u001B[49m\u001B[43membeddings\u001B[49m\u001B[38;5;241;43m=\u001B[39;49m\u001B[43membeddings\u001B[49m\u001B[43m,\u001B[49m\u001B[43m \u001B[49m\u001B[43mdocuments\u001B[49m\u001B[38;5;241;43m=\u001B[39;49m\u001B[43mdocuments\u001B[49m\u001B[43m,\u001B[49m\u001B[43m \u001B[49m\u001B[43mimages\u001B[49m\u001B[38;5;241;43m=\u001B[39;49m\u001B[43mimages\u001B[49m\u001B[43m,\u001B[49m\u001B[43m \u001B[49m\u001B[43muris\u001B[49m\u001B[38;5;241;43m=\u001B[39;49m\u001B[43muris\u001B[49m\n\u001B[0;32m    183\u001B[0m \u001B[43m    \u001B[49m\u001B[43m)\u001B[49m\n\u001B[0;32m    185\u001B[0m     \u001B[38;5;28;01mreturn\u001B[39;00m InsertRecordSet(\n\u001B[0;32m    186\u001B[0m         ids\u001B[38;5;241m=\u001B[39mcast(IDs, maybe_cast_one_to_many(ids)),\n\u001B[0;32m    187\u001B[0m         metadatas\u001B[38;5;241m=\u001B[39mmaybe_cast_one_to_many(metadatas),\n\u001B[1;32m   (...)\u001B[0m\n\u001B[0;32m    191\u001B[0m         uris\u001B[38;5;241m=\u001B[39mbase_record_set[\u001B[38;5;124m\"\u001B[39m\u001B[38;5;124muris\u001B[39m\u001B[38;5;124m\"\u001B[39m],\n\u001B[0;32m    192\u001B[0m     )\n",
      "File \u001B[1;32m~\\IdeaProjects\\rag-from-scratch\\venv\\Lib\\site-packages\\chromadb\\api\\types.py:158\u001B[0m, in \u001B[0;36mnormalize_base_record_set\u001B[1;34m(embeddings, documents, images, uris)\u001B[0m\n\u001B[0;32m    147\u001B[0m \u001B[38;5;28;01mdef\u001B[39;00m \u001B[38;5;21mnormalize_base_record_set\u001B[39m(\n\u001B[0;32m    148\u001B[0m     embeddings: Optional[Union[OneOrMany[Embedding], OneOrMany[PyEmbedding]]] \u001B[38;5;241m=\u001B[39m \u001B[38;5;28;01mNone\u001B[39;00m,\n\u001B[0;32m    149\u001B[0m     documents: Optional[OneOrMany[Document]] \u001B[38;5;241m=\u001B[39m \u001B[38;5;28;01mNone\u001B[39;00m,\n\u001B[0;32m    150\u001B[0m     images: Optional[OneOrMany[Image]] \u001B[38;5;241m=\u001B[39m \u001B[38;5;28;01mNone\u001B[39;00m,\n\u001B[0;32m    151\u001B[0m     uris: Optional[OneOrMany[URI]] \u001B[38;5;241m=\u001B[39m \u001B[38;5;28;01mNone\u001B[39;00m,\n\u001B[0;32m    152\u001B[0m ) \u001B[38;5;241m-\u001B[39m\u001B[38;5;241m>\u001B[39m BaseRecordSet:\n\u001B[0;32m    153\u001B[0m \u001B[38;5;250m    \u001B[39m\u001B[38;5;124;03m\"\"\"\u001B[39;00m\n\u001B[0;32m    154\u001B[0m \u001B[38;5;124;03m    Unpacks and normalizes the fields of a BaseRecordSet.\u001B[39;00m\n\u001B[0;32m    155\u001B[0m \u001B[38;5;124;03m    \"\"\"\u001B[39;00m\n\u001B[0;32m    157\u001B[0m     \u001B[38;5;28;01mreturn\u001B[39;00m BaseRecordSet(\n\u001B[1;32m--> 158\u001B[0m         embeddings\u001B[38;5;241m=\u001B[39m\u001B[43mnormalize_embeddings\u001B[49m\u001B[43m(\u001B[49m\u001B[43membeddings\u001B[49m\u001B[43m)\u001B[49m,\n\u001B[0;32m    159\u001B[0m         documents\u001B[38;5;241m=\u001B[39mmaybe_cast_one_to_many(documents),\n\u001B[0;32m    160\u001B[0m         images\u001B[38;5;241m=\u001B[39mmaybe_cast_one_to_many(images),\n\u001B[0;32m    161\u001B[0m         uris\u001B[38;5;241m=\u001B[39mmaybe_cast_one_to_many(uris),\n\u001B[0;32m    162\u001B[0m     )\n",
      "File \u001B[1;32m~\\IdeaProjects\\rag-from-scratch\\venv\\Lib\\site-packages\\chromadb\\api\\types.py:61\u001B[0m, in \u001B[0;36mnormalize_embeddings\u001B[1;34m(target)\u001B[0m\n\u001B[0;32m     58\u001B[0m     \u001B[38;5;28;01mreturn\u001B[39;00m \u001B[38;5;28;01mNone\u001B[39;00m\n\u001B[0;32m     59\u001B[0m \u001B[38;5;28;01mif\u001B[39;00m \u001B[38;5;28misinstance\u001B[39m(target, \u001B[38;5;28mlist\u001B[39m):\n\u001B[0;32m     60\u001B[0m     \u001B[38;5;66;03m# One PyEmbedding\u001B[39;00m\n\u001B[1;32m---> 61\u001B[0m     \u001B[38;5;28;01mif\u001B[39;00m \u001B[38;5;28misinstance\u001B[39m(\u001B[43mtarget\u001B[49m\u001B[43m[\u001B[49m\u001B[38;5;241;43m0\u001B[39;49m\u001B[43m]\u001B[49m, (\u001B[38;5;28mint\u001B[39m, \u001B[38;5;28mfloat\u001B[39m)) \u001B[38;5;129;01mand\u001B[39;00m \u001B[38;5;129;01mnot\u001B[39;00m \u001B[38;5;28misinstance\u001B[39m(target[\u001B[38;5;241m0\u001B[39m], \u001B[38;5;28mbool\u001B[39m):\n\u001B[0;32m     62\u001B[0m         \u001B[38;5;28;01mreturn\u001B[39;00m [np\u001B[38;5;241m.\u001B[39marray(target, dtype\u001B[38;5;241m=\u001B[39mnp\u001B[38;5;241m.\u001B[39mfloat32)]\n\u001B[0;32m     63\u001B[0m     \u001B[38;5;66;03m# List of PyEmbeddings\u001B[39;00m\n",
      "\u001B[1;31mIndexError\u001B[0m: list index out of range in upsert."
     ]
    }
   ],
   "execution_count": 109
  },
  {
   "metadata": {
    "ExecuteTime": {
     "end_time": "2024-11-09T15:59:48.204976Z",
     "start_time": "2024-11-09T15:59:48.192362Z"
    }
   },
   "cell_type": "code",
   "source": "retriever = vectorstore.as_retriever()",
   "id": "a3a7ae0092278fcf",
   "outputs": [],
   "execution_count": 111
  },
  {
   "metadata": {
    "ExecuteTime": {
     "end_time": "2024-11-09T15:59:50.363306Z",
     "start_time": "2024-11-09T15:59:50.357278Z"
    }
   },
   "cell_type": "code",
   "source": "query = \"Scenario where my email is not registered and I try to login\"",
   "id": "41b8ad5be17d6715",
   "outputs": [],
   "execution_count": 112
  },
  {
   "metadata": {
    "ExecuteTime": {
     "end_time": "2024-11-09T16:01:35.595936Z",
     "start_time": "2024-11-09T16:01:35.556360Z"
    }
   },
   "cell_type": "code",
   "source": [
    "# Retrieve relevant content using the similarity_search method\n",
    "results = retriever.invoke(query, top_k=1)\n",
    "results"
   ],
   "id": "1498e1783f81425f",
   "outputs": [
    {
     "data": {
      "text/plain": [
       "[Document(metadata={'Scenario Outline': '#2: Unsuccessful Log in to the website'}, page_content='Scenario #2: Unsuccessful Log in to the website\\nGiven A user brings up the login pop-up\\nWhen A user enters an invalid email <email> and password <password>\\nAnd A user clicks Sign-in\\nThen A user should not be successfully logged into the site'),\n",
       " Document(metadata={'Scenario Outline': '#2: Unsuccessful Log in to the website'}, page_content='Scenario #2: Unsuccessful Log in to the website\\nGiven A user brings up the login pop-up\\nWhen A user enters an invalid email <email> and password <password>\\nAnd A user clicks Sign-in\\nThen A user should not be successfully logged into the site'),\n",
       " Document(metadata={'Scenario Outline': '#2: Unsuccessful Log in to the website'}, page_content='Scenario #2: Unsuccessful Log in to the website\\nGiven A user brings up the login pop-up\\nWhen A user enters an invalid email <email> and password <password>\\nAnd A user clicks Sign-in\\nThen A user should not be successfully logged into the site'),\n",
       " Document(metadata={'Scenario Outline': '#2: Unsuccessful Log in to the website'}, page_content='Scenario #2: Unsuccessful Log in to the website\\nGiven A user brings up the login pop-up\\nWhen A user enters an invalid email <email> and password <password>\\nAnd A user clicks Sign-in\\nThen A user should not be successfully logged into the site')]"
      ]
     },
     "execution_count": 114,
     "metadata": {},
     "output_type": "execute_result"
    }
   ],
   "execution_count": 114
  },
  {
   "metadata": {
    "ExecuteTime": {
     "end_time": "2024-11-09T16:01:56.030550Z",
     "start_time": "2024-11-09T16:01:55.822448Z"
    }
   },
   "cell_type": "code",
   "source": [
    "# Calculate similarity scores manually\n",
    "query_embedding = gpt4all_embd.embed_query(\"Scenario where my email is not registered and I try to login\")\n",
    "document_embeddings = [gpt4all_embd.embed_query(result.page_content) for result in results]\n",
    "\n",
    "similarity_scores = cosine_similarity([query_embedding], document_embeddings).flatten()\n",
    "\n",
    "# Print the results with similarity scores\n",
    "for result, score in zip(results, similarity_scores):\n",
    "    print(f\"Document: {result}\\nSimilarity Score: {score}\\n\")"
   ],
   "id": "95b2634f07ecf12d",
   "outputs": [
    {
     "name": "stdout",
     "output_type": "stream",
     "text": [
      "Document: page_content='Scenario #2: Unsuccessful Log in to the website\n",
      "Given A user brings up the login pop-up\n",
      "When A user enters an invalid email <email> and password <password>\n",
      "And A user clicks Sign-in\n",
      "Then A user should not be successfully logged into the site' metadata={'Scenario Outline': '#2: Unsuccessful Log in to the website'}\n",
      "Similarity Score: 0.5796955321258643\n",
      "\n",
      "Document: page_content='Scenario #2: Unsuccessful Log in to the website\n",
      "Given A user brings up the login pop-up\n",
      "When A user enters an invalid email <email> and password <password>\n",
      "And A user clicks Sign-in\n",
      "Then A user should not be successfully logged into the site' metadata={'Scenario Outline': '#2: Unsuccessful Log in to the website'}\n",
      "Similarity Score: 0.5796955321258643\n",
      "\n",
      "Document: page_content='Scenario #2: Unsuccessful Log in to the website\n",
      "Given A user brings up the login pop-up\n",
      "When A user enters an invalid email <email> and password <password>\n",
      "And A user clicks Sign-in\n",
      "Then A user should not be successfully logged into the site' metadata={'Scenario Outline': '#2: Unsuccessful Log in to the website'}\n",
      "Similarity Score: 0.5796955321258643\n",
      "\n",
      "Document: page_content='Scenario #2: Unsuccessful Log in to the website\n",
      "Given A user brings up the login pop-up\n",
      "When A user enters an invalid email <email> and password <password>\n",
      "And A user clicks Sign-in\n",
      "Then A user should not be successfully logged into the site' metadata={'Scenario Outline': '#2: Unsuccessful Log in to the website'}\n",
      "Similarity Score: 0.5796955321258643\n",
      "\n"
     ]
    }
   ],
   "execution_count": 115
  }
 ],
 "metadata": {
  "kernelspec": {
   "display_name": "Python 3",
   "language": "python",
   "name": "python3"
  },
  "language_info": {
   "codemirror_mode": {
    "name": "ipython",
    "version": 2
   },
   "file_extension": ".py",
   "mimetype": "text/x-python",
   "name": "python",
   "nbconvert_exporter": "python",
   "pygments_lexer": "ipython2",
   "version": "2.7.6"
  }
 },
 "nbformat": 4,
 "nbformat_minor": 5
}
